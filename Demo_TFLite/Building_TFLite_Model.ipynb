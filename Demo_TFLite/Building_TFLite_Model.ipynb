{
  "nbformat": 4,
  "nbformat_minor": 0,
  "metadata": {
    "colab": {
      "provenance": [],
      "collapsed_sections": [
        "emkF7cW6GZt0",
        "g_3IFP_KGfKq"
      ]
    },
    "kernelspec": {
      "name": "python3",
      "display_name": "Python 3"
    },
    "language_info": {
      "name": "python"
    },
    "gpuClass": "standard"
  },
  "cells": [
    {
      "cell_type": "markdown",
      "source": [
        "# TFLiteDemo\n",
        "\n",
        "This notebook is used for training and export a TFLite model to use in building an android app."
      ],
      "metadata": {
        "id": "N5q1ALMHGCTe"
      }
    },
    {
      "cell_type": "code",
      "execution_count": null,
      "metadata": {
        "id": "8lCi3O2Otp9D"
      },
      "outputs": [],
      "source": [
        "!git clone https://github.com/baobuiquang/datasets.git &> /dev/null\n",
        "!cp /content/datasets/mnist_png.zip /content           &> /dev/null\n",
        "!unzip /content/mnist_png.zip                          &> /dev/null"
      ]
    },
    {
      "cell_type": "markdown",
      "source": [
        "## Training TF model"
      ],
      "metadata": {
        "id": "emkF7cW6GZt0"
      }
    },
    {
      "cell_type": "code",
      "source": [
        "import numpy as np\n",
        "import matplotlib.pyplot as plt\n",
        "import tensorflow as tf"
      ],
      "metadata": {
        "id": "yYCcRf6jumBp"
      },
      "execution_count": null,
      "outputs": []
    },
    {
      "cell_type": "code",
      "source": [
        "img_height, img_width = 28, 28\n",
        "batch_size = 20\n",
        "\n",
        "train_ds = tf.keras.utils.image_dataset_from_directory(\n",
        "    \"/content/mnist_png/train\",\n",
        "    image_size = (img_height, img_width),\n",
        "    batch_size = batch_size,\n",
        "    validation_split = 0.2,\n",
        "    seed = 100,\n",
        "    subset = \"training\",\n",
        ")\n",
        "val_ds = tf.keras.utils.image_dataset_from_directory(\n",
        "    \"/content/mnist_png/train\",\n",
        "    image_size = (img_height, img_width),\n",
        "    batch_size = batch_size,\n",
        "    validation_split = 0.2,\n",
        "    seed = 100,\n",
        "    subset = \"validation\",\n",
        ")\n",
        "test_ds = tf.keras.utils.image_dataset_from_directory(\n",
        "    \"/content/mnist_png/test\",\n",
        "    image_size = (img_height, img_width),\n",
        "    batch_size = batch_size\n",
        ")"
      ],
      "metadata": {
        "colab": {
          "base_uri": "https://localhost:8080/"
        },
        "id": "qHX_Fi2cu7y3",
        "outputId": "58b03af9-dfd6-4b6a-8279-b11f8ae331d1"
      },
      "execution_count": null,
      "outputs": [
        {
          "output_type": "stream",
          "name": "stdout",
          "text": [
            "Found 120000 files belonging to 10 classes.\n",
            "Using 96000 files for training.\n",
            "Found 120000 files belonging to 10 classes.\n",
            "Using 24000 files for validation.\n",
            "Found 20000 files belonging to 10 classes.\n"
          ]
        }
      ]
    },
    {
      "cell_type": "code",
      "source": [
        "class_names = ['0', '1', '2', '3', '4', '5', '6', '7', '8', '9']\n",
        "plt.figure(figsize=(10,10))\n",
        "for images, labels in train_ds.take(1):\n",
        "  for i in range(9):\n",
        "    ax = plt.subplot(3, 3, i + 1)\n",
        "    plt.imshow(images[i].numpy().astype(\"uint8\"))\n",
        "    plt.title(class_names[labels[i]])\n",
        "    plt.axis(\"off\")"
      ],
      "metadata": {
        "colab": {
          "base_uri": "https://localhost:8080/",
          "height": 591
        },
        "id": "oDzXZ6AwvX5f",
        "outputId": "72070027-5fd4-4743-bfa6-e5bdfcb0ca8c"
      },
      "execution_count": null,
      "outputs": [
        {
          "output_type": "display_data",
          "data": {
            "text/plain": [
              "<Figure size 720x720 with 9 Axes>"
            ],
            "image/png": "[encoded data removed]"
          },
          "metadata": {
            "needs_background": "light"
          }
        }
      ]
    },
    {
      "cell_type": "code",
      "source": [
        "model = tf.keras.Sequential(\n",
        "    [\n",
        "     tf.keras.layers.Input(shape=(28,28,3)),\n",
        "     tf.keras.layers.Rescaling(1./255),\n",
        "     tf.keras.layers.Conv2D(32, 3, activation=\"relu\"),\n",
        "     tf.keras.layers.MaxPooling2D(),\n",
        "     tf.keras.layers.Conv2D(32, 3, activation=\"relu\"),\n",
        "     tf.keras.layers.MaxPooling2D(),\n",
        "     tf.keras.layers.Conv2D(32, 3, activation=\"relu\"),\n",
        "     tf.keras.layers.MaxPooling2D(),\n",
        "     tf.keras.layers.Flatten(),\n",
        "     tf.keras.layers.Dense(128, activation=\"relu\"),\n",
        "     tf.keras.layers.Dense(10)\n",
        "    ]\n",
        ")"
      ],
      "metadata": {
        "id": "sKiERvTtwRmf"
      },
      "execution_count": null,
      "outputs": []
    },
    {
      "cell_type": "code",
      "source": [
        "model.summary()"
      ],
      "metadata": {
        "colab": {
          "base_uri": "https://localhost:8080/"
        },
        "id": "HXYo2TFFvFY9",
        "outputId": "d80b6246-3471-4d9c-8132-1f8bf1bad23e"
      },
      "execution_count": null,
      "outputs": [
        {
          "output_type": "stream",
          "name": "stdout",
          "text": [
            "Model: \"sequential\"\n",
            "_________________________________________________________________\n",
            " Layer (type)                Output Shape              Param #   \n",
            "=================================================================\n",
            " rescaling (Rescaling)       (None, 28, 28, 3)         0         \n",
            "                                                                 \n",
            " conv2d (Conv2D)             (None, 26, 26, 32)        896       \n",
            "                                                                 \n",
            " max_pooling2d (MaxPooling2D  (None, 13, 13, 32)       0         \n",
            " )                                                               \n",
            "                                                                 \n",
            " conv2d_1 (Conv2D)           (None, 11, 11, 32)        9248      \n",
            "                                                                 \n",
            " max_pooling2d_1 (MaxPooling  (None, 5, 5, 32)         0         \n",
            " 2D)                                                             \n",
            "                                                                 \n",
            " conv2d_2 (Conv2D)           (None, 3, 3, 32)          9248      \n",
            "                                                                 \n",
            " max_pooling2d_2 (MaxPooling  (None, 1, 1, 32)         0         \n",
            " 2D)                                                             \n",
            "                                                                 \n",
            " flatten (Flatten)           (None, 32)                0         \n",
            "                                                                 \n",
            " dense (Dense)               (None, 128)               4224      \n",
            "                                                                 \n",
            " dense_1 (Dense)             (None, 10)                1290      \n",
            "                                                                 \n",
            "=================================================================\n",
            "Total params: 24,906\n",
            "Trainable params: 24,906\n",
            "Non-trainable params: 0\n",
            "_________________________________________________________________\n"
          ]
        }
      ]
    },
    {
      "cell_type": "code",
      "source": [
        "model.compile(\n",
        "    optimizer=\"adam\",\n",
        "    loss=tf.losses.SparseCategoricalCrossentropy(from_logits = True),\n",
        "    metrics=['accuracy']\n",
        ")"
      ],
      "metadata": {
        "id": "_2qTP0hk3OqK"
      },
      "execution_count": null,
      "outputs": []
    },
    {
      "cell_type": "code",
      "source": [
        "model.fit(\n",
        "    train_ds,\n",
        "    validation_data = val_ds,\n",
        "    epochs = 3,\n",
        ")"
      ],
      "metadata": {
        "colab": {
          "base_uri": "https://localhost:8080/"
        },
        "id": "ILi1YyWf3fob",
        "outputId": "f7dffec8-5c5b-4c9e-e0b5-045c1a8ca87b"
      },
      "execution_count": null,
      "outputs": [
        {
          "output_type": "stream",
          "name": "stdout",
          "text": [
            "Epoch 1/3\n",
            "4800/4800 [==============================] - 171s 35ms/step - loss: 0.2418 - accuracy: 0.9222 - val_loss: 0.1016 - val_accuracy: 0.9677\n",
            "Epoch 2/3\n",
            "4800/4800 [==============================] - 187s 39ms/step - loss: 0.1011 - accuracy: 0.9681 - val_loss: 0.0869 - val_accuracy: 0.9725\n",
            "Epoch 3/3\n",
            "4800/4800 [==============================] - 167s 35ms/step - loss: 0.0772 - accuracy: 0.9758 - val_loss: 0.0826 - val_accuracy: 0.9743\n"
          ]
        },
        {
          "output_type": "execute_result",
          "data": {
            "text/plain": [
              "<keras.callbacks.History at 0x7fc65b5bcee0>"
            ]
          },
          "metadata": {},
          "execution_count": 8
        }
      ]
    },
    {
      "cell_type": "code",
      "source": [
        "model.evaluate(test_ds)"
      ],
      "metadata": {
        "colab": {
          "base_uri": "https://localhost:8080/"
        },
        "id": "AJalZYGa3tKG",
        "outputId": "7ad87f6a-fe88-4958-934a-edb614bad167"
      },
      "execution_count": null,
      "outputs": [
        {
          "output_type": "stream",
          "name": "stdout",
          "text": [
            "1000/1000 [==============================] - 15s 15ms/step - loss: 0.0818 - accuracy: 0.9751\n"
          ]
        },
        {
          "output_type": "execute_result",
          "data": {
            "text/plain": [
              "[0.08175311982631683, 0.9750999808311462]"
            ]
          },
          "metadata": {},
          "execution_count": 9
        }
      ]
    },
    {
      "cell_type": "code",
      "source": [
        "import numpy\n",
        "\n",
        "plt.figure(figsize=(10,10))\n",
        "for images, labels in test_ds.take(1):\n",
        "  classifications = model(images)\n",
        "  # print(classifications)\n",
        "  \n",
        "  for i in range(9):\n",
        "    ax = plt.subplot(3, 3, i + 1)\n",
        "    plt.imshow(images[i].numpy().astype(\"uint8\"))\n",
        "    index = numpy.argmax(classifications[i])\n",
        "    plt.title(\"Pred: \" + class_names[index] + \" | Real: \" + class_names[labels[i]])"
      ],
      "metadata": {
        "colab": {
          "base_uri": "https://localhost:8080/",
          "height": 607
        },
        "id": "AZXzzvArbrR7",
        "outputId": "bf7d9d18-fd44-454b-fd63-565d0a128323"
      },
      "execution_count": null,
      "outputs": [
        {
          "output_type": "display_data",
          "data": {
            "text/plain": [
              "<Figure size 720x720 with 9 Axes>"
            ],
            "image/png": "[encoded data removed]"
          },
          "metadata": {
            "needs_background": "light"
          }
        }
      ]
    },
    {
      "cell_type": "markdown",
      "source": [
        "## Export TFLite model\n",
        "\n",
        "Convert TF model to TFLite model"
      ],
      "metadata": {
        "id": "g_3IFP_KGfKq"
      }
    },
    {
      "cell_type": "code",
      "source": [
        "converter = tf.lite.TFLiteConverter.from_keras_model(model)\n",
        "tflite_model = converter.convert()\n",
        "\n",
        "with open(\"model.tflite\", 'wb') as f:\n",
        "  f.write(tflite_model)"
      ],
      "metadata": {
        "id": "P8ySxVJubs7Q",
        "colab": {
          "base_uri": "https://localhost:8080/"
        },
        "outputId": "75ead50c-b0a5-445d-a2af-61e6bda30477"
      },
      "execution_count": null,
      "outputs": [
        {
          "output_type": "stream",
          "name": "stderr",
          "text": [
            "WARNING:absl:Found untraced functions such as _jit_compiled_convolution_op, _jit_compiled_convolution_op, _jit_compiled_convolution_op while saving (showing 3 of 3). These functions will not be directly callable after loading.\n"
          ]
        }
      ]
    }
  ]
}